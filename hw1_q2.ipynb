{
 "cells": [
  {
   "cell_type": "code",
   "execution_count": 354,
   "id": "20fb45c1",
   "metadata": {},
   "outputs": [],
   "source": [
    "import numpy as np\n",
    "import pandas as pd\n",
    "import matplotlib.pyplot as plt\n",
    "import seaborn as sns\n",
    "import math\n",
    "import operator\n",
    "import time"
   ]
  },
  {
   "cell_type": "code",
   "execution_count": 556,
   "id": "f7fdc660",
   "metadata": {},
   "outputs": [],
   "source": [
    "train_data = pd.read_csv('hw1_datasets/q2/diabetes_train_features.csv')\n",
    "train_gts = pd.read_csv('hw1_datasets/q2/diabetes_train_labels.csv')\n",
    "test_data = pd.read_csv('hw1_datasets/q2/diabetes_test_features.csv')\n",
    "test_gts = pd.read_csv('hw1_datasets/q2/diabetes_test_labels.csv')"
   ]
  },
  {
   "cell_type": "code",
   "execution_count": 502,
   "id": "54126883",
   "metadata": {},
   "outputs": [
    {
     "data": {
      "text/html": [
       "<div>\n",
       "<style scoped>\n",
       "    .dataframe tbody tr th:only-of-type {\n",
       "        vertical-align: middle;\n",
       "    }\n",
       "\n",
       "    .dataframe tbody tr th {\n",
       "        vertical-align: top;\n",
       "    }\n",
       "\n",
       "    .dataframe thead th {\n",
       "        text-align: right;\n",
       "    }\n",
       "</style>\n",
       "<table border=\"1\" class=\"dataframe\">\n",
       "  <thead>\n",
       "    <tr style=\"text-align: right;\">\n",
       "      <th></th>\n",
       "      <th>Unnamed: 0</th>\n",
       "      <th>Pregnancies</th>\n",
       "      <th>Glucose</th>\n",
       "      <th>BloodPressure</th>\n",
       "      <th>SkinThickness</th>\n",
       "      <th>Insulin</th>\n",
       "      <th>BMI</th>\n",
       "      <th>DiabetesPedigreeFunction</th>\n",
       "      <th>Age</th>\n",
       "    </tr>\n",
       "  </thead>\n",
       "  <tbody>\n",
       "    <tr>\n",
       "      <th>609</th>\n",
       "      <td>609</td>\n",
       "      <td>5</td>\n",
       "      <td>139</td>\n",
       "      <td>64</td>\n",
       "      <td>35</td>\n",
       "      <td>140</td>\n",
       "      <td>28.6</td>\n",
       "      <td>0.411</td>\n",
       "      <td>26</td>\n",
       "    </tr>\n",
       "    <tr>\n",
       "      <th>610</th>\n",
       "      <td>610</td>\n",
       "      <td>1</td>\n",
       "      <td>96</td>\n",
       "      <td>122</td>\n",
       "      <td>0</td>\n",
       "      <td>0</td>\n",
       "      <td>22.4</td>\n",
       "      <td>0.207</td>\n",
       "      <td>27</td>\n",
       "    </tr>\n",
       "    <tr>\n",
       "      <th>611</th>\n",
       "      <td>611</td>\n",
       "      <td>10</td>\n",
       "      <td>101</td>\n",
       "      <td>86</td>\n",
       "      <td>37</td>\n",
       "      <td>0</td>\n",
       "      <td>45.6</td>\n",
       "      <td>1.136</td>\n",
       "      <td>38</td>\n",
       "    </tr>\n",
       "    <tr>\n",
       "      <th>612</th>\n",
       "      <td>612</td>\n",
       "      <td>0</td>\n",
       "      <td>141</td>\n",
       "      <td>0</td>\n",
       "      <td>0</td>\n",
       "      <td>0</td>\n",
       "      <td>42.4</td>\n",
       "      <td>0.205</td>\n",
       "      <td>29</td>\n",
       "    </tr>\n",
       "    <tr>\n",
       "      <th>613</th>\n",
       "      <td>613</td>\n",
       "      <td>0</td>\n",
       "      <td>125</td>\n",
       "      <td>96</td>\n",
       "      <td>0</td>\n",
       "      <td>0</td>\n",
       "      <td>22.5</td>\n",
       "      <td>0.262</td>\n",
       "      <td>21</td>\n",
       "    </tr>\n",
       "  </tbody>\n",
       "</table>\n",
       "</div>"
      ],
      "text/plain": [
       "     Unnamed: 0  Pregnancies  Glucose  BloodPressure  SkinThickness  Insulin  \\\n",
       "609         609            5      139             64             35      140   \n",
       "610         610            1       96            122              0        0   \n",
       "611         611           10      101             86             37        0   \n",
       "612         612            0      141              0              0        0   \n",
       "613         613            0      125             96              0        0   \n",
       "\n",
       "      BMI  DiabetesPedigreeFunction  Age  \n",
       "609  28.6                     0.411   26  \n",
       "610  22.4                     0.207   27  \n",
       "611  45.6                     1.136   38  \n",
       "612  42.4                     0.205   29  \n",
       "613  22.5                     0.262   21  "
      ]
     },
     "execution_count": 502,
     "metadata": {},
     "output_type": "execute_result"
    }
   ],
   "source": [
    "train_data.tail()"
   ]
  },
  {
   "cell_type": "code",
   "execution_count": 449,
   "id": "9404caf8",
   "metadata": {
    "scrolled": false
   },
   "outputs": [
    {
     "data": {
      "text/html": [
       "<div>\n",
       "<style scoped>\n",
       "    .dataframe tbody tr th:only-of-type {\n",
       "        vertical-align: middle;\n",
       "    }\n",
       "\n",
       "    .dataframe tbody tr th {\n",
       "        vertical-align: top;\n",
       "    }\n",
       "\n",
       "    .dataframe thead th {\n",
       "        text-align: right;\n",
       "    }\n",
       "</style>\n",
       "<table border=\"1\" class=\"dataframe\">\n",
       "  <thead>\n",
       "    <tr style=\"text-align: right;\">\n",
       "      <th></th>\n",
       "      <th>Unnamed: 0</th>\n",
       "      <th>Pregnancies</th>\n",
       "      <th>Glucose</th>\n",
       "      <th>BloodPressure</th>\n",
       "      <th>SkinThickness</th>\n",
       "      <th>Insulin</th>\n",
       "      <th>BMI</th>\n",
       "      <th>DiabetesPedigreeFunction</th>\n",
       "      <th>Age</th>\n",
       "    </tr>\n",
       "  </thead>\n",
       "  <tbody>\n",
       "    <tr>\n",
       "      <th>0</th>\n",
       "      <td>0</td>\n",
       "      <td>2</td>\n",
       "      <td>84</td>\n",
       "      <td>0</td>\n",
       "      <td>0</td>\n",
       "      <td>0</td>\n",
       "      <td>0.0</td>\n",
       "      <td>0.304</td>\n",
       "      <td>21</td>\n",
       "    </tr>\n",
       "    <tr>\n",
       "      <th>1</th>\n",
       "      <td>1</td>\n",
       "      <td>9</td>\n",
       "      <td>112</td>\n",
       "      <td>82</td>\n",
       "      <td>24</td>\n",
       "      <td>0</td>\n",
       "      <td>28.2</td>\n",
       "      <td>1.282</td>\n",
       "      <td>50</td>\n",
       "    </tr>\n",
       "    <tr>\n",
       "      <th>2</th>\n",
       "      <td>2</td>\n",
       "      <td>1</td>\n",
       "      <td>139</td>\n",
       "      <td>46</td>\n",
       "      <td>19</td>\n",
       "      <td>83</td>\n",
       "      <td>28.7</td>\n",
       "      <td>0.654</td>\n",
       "      <td>22</td>\n",
       "    </tr>\n",
       "    <tr>\n",
       "      <th>3</th>\n",
       "      <td>3</td>\n",
       "      <td>0</td>\n",
       "      <td>161</td>\n",
       "      <td>50</td>\n",
       "      <td>0</td>\n",
       "      <td>0</td>\n",
       "      <td>21.9</td>\n",
       "      <td>0.254</td>\n",
       "      <td>65</td>\n",
       "    </tr>\n",
       "    <tr>\n",
       "      <th>4</th>\n",
       "      <td>4</td>\n",
       "      <td>6</td>\n",
       "      <td>134</td>\n",
       "      <td>80</td>\n",
       "      <td>37</td>\n",
       "      <td>370</td>\n",
       "      <td>46.2</td>\n",
       "      <td>0.238</td>\n",
       "      <td>46</td>\n",
       "    </tr>\n",
       "  </tbody>\n",
       "</table>\n",
       "</div>"
      ],
      "text/plain": [
       "   Unnamed: 0  Pregnancies  Glucose  BloodPressure  SkinThickness  Insulin  \\\n",
       "0           0            2       84              0              0        0   \n",
       "1           1            9      112             82             24        0   \n",
       "2           2            1      139             46             19       83   \n",
       "3           3            0      161             50              0        0   \n",
       "4           4            6      134             80             37      370   \n",
       "\n",
       "    BMI  DiabetesPedigreeFunction  Age  \n",
       "0   0.0                     0.304   21  \n",
       "1  28.2                     1.282   50  \n",
       "2  28.7                     0.654   22  \n",
       "3  21.9                     0.254   65  \n",
       "4  46.2                     0.238   46  "
      ]
     },
     "execution_count": 449,
     "metadata": {},
     "output_type": "execute_result"
    }
   ],
   "source": [
    "train_data.head()"
   ]
  },
  {
   "cell_type": "code",
   "execution_count": 450,
   "id": "106683ac",
   "metadata": {
    "scrolled": true
   },
   "outputs": [
    {
     "data": {
      "text/html": [
       "<div>\n",
       "<style scoped>\n",
       "    .dataframe tbody tr th:only-of-type {\n",
       "        vertical-align: middle;\n",
       "    }\n",
       "\n",
       "    .dataframe tbody tr th {\n",
       "        vertical-align: top;\n",
       "    }\n",
       "\n",
       "    .dataframe thead th {\n",
       "        text-align: right;\n",
       "    }\n",
       "</style>\n",
       "<table border=\"1\" class=\"dataframe\">\n",
       "  <thead>\n",
       "    <tr style=\"text-align: right;\">\n",
       "      <th></th>\n",
       "      <th>Unnamed: 0</th>\n",
       "      <th>Outcome</th>\n",
       "    </tr>\n",
       "  </thead>\n",
       "  <tbody>\n",
       "    <tr>\n",
       "      <th>0</th>\n",
       "      <td>0</td>\n",
       "      <td>0</td>\n",
       "    </tr>\n",
       "    <tr>\n",
       "      <th>1</th>\n",
       "      <td>1</td>\n",
       "      <td>1</td>\n",
       "    </tr>\n",
       "    <tr>\n",
       "      <th>2</th>\n",
       "      <td>2</td>\n",
       "      <td>0</td>\n",
       "    </tr>\n",
       "    <tr>\n",
       "      <th>3</th>\n",
       "      <td>3</td>\n",
       "      <td>0</td>\n",
       "    </tr>\n",
       "    <tr>\n",
       "      <th>4</th>\n",
       "      <td>4</td>\n",
       "      <td>1</td>\n",
       "    </tr>\n",
       "  </tbody>\n",
       "</table>\n",
       "</div>"
      ],
      "text/plain": [
       "   Unnamed: 0  Outcome\n",
       "0           0        0\n",
       "1           1        1\n",
       "2           2        0\n",
       "3           3        0\n",
       "4           4        1"
      ]
     },
     "execution_count": 450,
     "metadata": {},
     "output_type": "execute_result"
    }
   ],
   "source": [
    "train_gts.head()"
   ]
  },
  {
   "cell_type": "code",
   "execution_count": 497,
   "id": "e4eb3a50",
   "metadata": {
    "scrolled": false
   },
   "outputs": [
    {
     "data": {
      "text/html": [
       "<div>\n",
       "<style scoped>\n",
       "    .dataframe tbody tr th:only-of-type {\n",
       "        vertical-align: middle;\n",
       "    }\n",
       "\n",
       "    .dataframe tbody tr th {\n",
       "        vertical-align: top;\n",
       "    }\n",
       "\n",
       "    .dataframe thead th {\n",
       "        text-align: right;\n",
       "    }\n",
       "</style>\n",
       "<table border=\"1\" class=\"dataframe\">\n",
       "  <thead>\n",
       "    <tr style=\"text-align: right;\">\n",
       "      <th></th>\n",
       "      <th>Unnamed: 0</th>\n",
       "      <th>Pregnancies</th>\n",
       "      <th>Glucose</th>\n",
       "      <th>BloodPressure</th>\n",
       "      <th>SkinThickness</th>\n",
       "      <th>BMI</th>\n",
       "      <th>DiabetesPedigreeFunction</th>\n",
       "      <th>Age</th>\n",
       "    </tr>\n",
       "  </thead>\n",
       "  <tbody>\n",
       "    <tr>\n",
       "      <th>149</th>\n",
       "      <td>149</td>\n",
       "      <td>9</td>\n",
       "      <td>165</td>\n",
       "      <td>88</td>\n",
       "      <td>0</td>\n",
       "      <td>30.4</td>\n",
       "      <td>0.302</td>\n",
       "      <td>49</td>\n",
       "    </tr>\n",
       "    <tr>\n",
       "      <th>150</th>\n",
       "      <td>150</td>\n",
       "      <td>1</td>\n",
       "      <td>77</td>\n",
       "      <td>56</td>\n",
       "      <td>30</td>\n",
       "      <td>33.3</td>\n",
       "      <td>1.251</td>\n",
       "      <td>24</td>\n",
       "    </tr>\n",
       "    <tr>\n",
       "      <th>151</th>\n",
       "      <td>151</td>\n",
       "      <td>8</td>\n",
       "      <td>95</td>\n",
       "      <td>72</td>\n",
       "      <td>0</td>\n",
       "      <td>36.8</td>\n",
       "      <td>0.485</td>\n",
       "      <td>57</td>\n",
       "    </tr>\n",
       "    <tr>\n",
       "      <th>152</th>\n",
       "      <td>152</td>\n",
       "      <td>2</td>\n",
       "      <td>146</td>\n",
       "      <td>70</td>\n",
       "      <td>38</td>\n",
       "      <td>28.0</td>\n",
       "      <td>0.337</td>\n",
       "      <td>29</td>\n",
       "    </tr>\n",
       "    <tr>\n",
       "      <th>153</th>\n",
       "      <td>153</td>\n",
       "      <td>8</td>\n",
       "      <td>74</td>\n",
       "      <td>70</td>\n",
       "      <td>40</td>\n",
       "      <td>35.3</td>\n",
       "      <td>0.705</td>\n",
       "      <td>39</td>\n",
       "    </tr>\n",
       "  </tbody>\n",
       "</table>\n",
       "</div>"
      ],
      "text/plain": [
       "     Unnamed: 0  Pregnancies  Glucose  BloodPressure  SkinThickness   BMI  \\\n",
       "149         149            9      165             88              0  30.4   \n",
       "150         150            1       77             56             30  33.3   \n",
       "151         151            8       95             72              0  36.8   \n",
       "152         152            2      146             70             38  28.0   \n",
       "153         153            8       74             70             40  35.3   \n",
       "\n",
       "     DiabetesPedigreeFunction  Age  \n",
       "149                     0.302   49  \n",
       "150                     1.251   24  \n",
       "151                     0.485   57  \n",
       "152                     0.337   29  \n",
       "153                     0.705   39  "
      ]
     },
     "execution_count": 497,
     "metadata": {},
     "output_type": "execute_result"
    }
   ],
   "source": [
    "test_data.tail()"
   ]
  },
  {
   "cell_type": "code",
   "execution_count": 452,
   "id": "b2c93731",
   "metadata": {
    "scrolled": false
   },
   "outputs": [
    {
     "data": {
      "text/html": [
       "<div>\n",
       "<style scoped>\n",
       "    .dataframe tbody tr th:only-of-type {\n",
       "        vertical-align: middle;\n",
       "    }\n",
       "\n",
       "    .dataframe tbody tr th {\n",
       "        vertical-align: top;\n",
       "    }\n",
       "\n",
       "    .dataframe thead th {\n",
       "        text-align: right;\n",
       "    }\n",
       "</style>\n",
       "<table border=\"1\" class=\"dataframe\">\n",
       "  <thead>\n",
       "    <tr style=\"text-align: right;\">\n",
       "      <th></th>\n",
       "      <th>Unnamed: 0</th>\n",
       "      <th>Outcome</th>\n",
       "    </tr>\n",
       "  </thead>\n",
       "  <tbody>\n",
       "    <tr>\n",
       "      <th>0</th>\n",
       "      <td>0</td>\n",
       "      <td>0</td>\n",
       "    </tr>\n",
       "    <tr>\n",
       "      <th>1</th>\n",
       "      <td>1</td>\n",
       "      <td>0</td>\n",
       "    </tr>\n",
       "    <tr>\n",
       "      <th>2</th>\n",
       "      <td>2</td>\n",
       "      <td>0</td>\n",
       "    </tr>\n",
       "    <tr>\n",
       "      <th>3</th>\n",
       "      <td>3</td>\n",
       "      <td>0</td>\n",
       "    </tr>\n",
       "    <tr>\n",
       "      <th>4</th>\n",
       "      <td>4</td>\n",
       "      <td>0</td>\n",
       "    </tr>\n",
       "  </tbody>\n",
       "</table>\n",
       "</div>"
      ],
      "text/plain": [
       "   Unnamed: 0  Outcome\n",
       "0           0        0\n",
       "1           1        0\n",
       "2           2        0\n",
       "3           3        0\n",
       "4           4        0"
      ]
     },
     "execution_count": 452,
     "metadata": {},
     "output_type": "execute_result"
    }
   ],
   "source": [
    "test_gts.head()"
   ]
  },
  {
   "cell_type": "markdown",
   "id": "f4452362",
   "metadata": {},
   "source": [
    "## Backward Elimination\n",
    "We use this step to eliminate irrelevant features and try to calculate with less feature"
   ]
  },
  {
   "cell_type": "code",
   "execution_count": 557,
   "id": "51bf6e62",
   "metadata": {},
   "outputs": [],
   "source": [
    "train_data = train_data.drop(columns='Insulin')\n",
    "test_data = test_data.drop(columns='Insulin')\n",
    "train_data = train_data.drop(columns='Age')\n",
    "test_data = test_data.drop(columns='Age')"
   ]
  },
  {
   "cell_type": "code",
   "execution_count": 558,
   "id": "144164d6",
   "metadata": {},
   "outputs": [],
   "source": [
    "train_data = train_data.drop(columns='Pregnancies')\n",
    "test_data = test_data.drop(columns='Pregnancies')"
   ]
  },
  {
   "cell_type": "markdown",
   "id": "b3435af8",
   "metadata": {},
   "source": [
    "# Distance Metric\n",
    "## Euclidean Distance\n",
    "We use euclidean distance metric in order to calculate difference between two datasets"
   ]
  },
  {
   "cell_type": "markdown",
   "id": "8ea33e25",
   "metadata": {},
   "source": [
    "Non-negativity, identity of indiscernibles, symmetry and triangle inequality are required aspects for distance metrics calculator.  \n",
    "Euclidean distance gives more precise results in complex plane compared to manhattan and chebyshev"
   ]
  },
  {
   "cell_type": "markdown",
   "id": "14600c60",
   "metadata": {},
   "source": [
    "we could use manhattan distance, chess distance, mahalanobis distance"
   ]
  },
  {
   "cell_type": "code",
   "execution_count": 456,
   "id": "21c0c262",
   "metadata": {},
   "outputs": [
    {
     "name": "stdout",
     "output_type": "stream",
     "text": [
      "Distance: 4.0\n"
     ]
    }
   ],
   "source": [
    "def euclidean_distance(sample1, sample2):\n",
    "    assert len(sample1) == len(sample2), \"Different number of features exist for the given samples\"\n",
    "    distance = 0\n",
    "    for i in range(len(sample1)):\n",
    "        distance += pow((sample1[i] - sample2[i]), 2)\n",
    "    return math.sqrt(distance)\n",
    "\n",
    "data1 = np.array([2,2,2,2])\n",
    "data2 = np.array([4,4,4,4])\n",
    "distance = euclidean_distance(data1, data2)\n",
    "print('Distance: ' + repr(distance))"
   ]
  },
  {
   "cell_type": "markdown",
   "id": "3f0eb571",
   "metadata": {},
   "source": [
    "## Feature Selection \n",
    "We select features in order to eliminate irrelevant features from our feature set, some features does not help us that much in our decision process, also more features means more time consuming"
   ]
  },
  {
   "cell_type": "markdown",
   "id": "b58a3b88",
   "metadata": {},
   "source": [
    "# Neighbors"
   ]
  },
  {
   "cell_type": "markdown",
   "id": "2b04ed3f",
   "metadata": {},
   "source": [
    "### Collecting K most similar neighbour instances for a given unseen instance\n",
    "We will calculate the distance for all instances and select a subset with the smallest distance values"
   ]
  },
  {
   "cell_type": "code",
   "execution_count": 457,
   "id": "374d464a",
   "metadata": {},
   "outputs": [],
   "source": [
    "def get_neighbors(train_X, train_Y, test_sample, k):\n",
    "    distances = []\n",
    "    neighbors = []\n",
    "    \n",
    "    for i in range(len(train_X)):\n",
    "        distance = euclidean_distance(train_X.iloc[i], test_sample)\n",
    "        distances.append((train_X.iloc[i], train_Y.iloc[i], distance))\n",
    "    distances.sort(key=operator.itemgetter(2))\n",
    "    for i in range(k):\n",
    "        neighbors.append(distances[i])\n",
    "    return neighbors"
   ]
  },
  {
   "cell_type": "markdown",
   "id": "6c6a2f47",
   "metadata": {},
   "source": [
    "## Classification\n",
    "Once we have located the most similar neighbors for a test instance, the next task is to devise a predicted response based on those neighbors\n",
    "We can do this by allowing each neighbor to ote for their class attribute, and take the majority vote as the prediction\n",
    "Below provides a function for getting the majority voted response from a number of neighbors. It assumes the class is the last attribute for each neighbor"
   ]
  },
  {
   "cell_type": "code",
   "execution_count": 458,
   "id": "4b200586",
   "metadata": {},
   "outputs": [],
   "source": [
    "def classify():\n",
    "    results_df = []\n",
    "    k = 9\n",
    "    for i in range(len(test_data)):\n",
    "        sum_one = 0\n",
    "        sum_zero = 0\n",
    "        neighbors = get_neighbors(train_data, train_gts, test_data.iloc[i], k)\n",
    "        for i in range(len(neighbors)):\n",
    "            prediction_1 = str(neighbors[i][1]).partition('Outcome')[2]\n",
    "            prediction = int(prediction_1.partition('Name')[0]) \n",
    "            if(prediction == 1):\n",
    "                sum_one += 1\n",
    "            else:\n",
    "                sum_zero += 1\n",
    "        if(sum_zero > sum_one):\n",
    "            results_df.append(0)\n",
    "        else:\n",
    "            results_df.append(1)\n",
    "    return results_df"
   ]
  },
  {
   "cell_type": "code",
   "execution_count": 559,
   "id": "dcebe090",
   "metadata": {
    "scrolled": true
   },
   "outputs": [
    {
     "name": "stdout",
     "output_type": "stream",
     "text": [
      "--- 26.30210304260254 seconds ---\n"
     ]
    }
   ],
   "source": [
    "start_time = time.time()\n",
    "results = classify()\n",
    "print(\"--- %s seconds ---\" % (time.time() - start_time))"
   ]
  },
  {
   "cell_type": "code",
   "execution_count": 460,
   "id": "79e0b08f",
   "metadata": {
    "scrolled": true
   },
   "outputs": [
    {
     "name": "stdout",
     "output_type": "stream",
     "text": [
      "[0, 1, 0, 0, 1, 0, 0, 1, 0, 1, 1, 1, 0, 0, 0, 0, 0, 0, 1, 0, 0, 0, 0, 0, 0, 1, 0, 0, 0, 0, 0, 1, 0, 1, 0, 1, 1, 0, 0, 1, 0, 0, 0, 0, 0, 0, 0, 0, 0, 0, 0, 1, 0, 0, 0, 0, 0, 0, 0, 0, 0, 0, 0, 0, 0, 1, 0, 0, 0, 0, 0, 0, 0, 0, 0, 0, 0, 0, 0, 0, 0, 0, 0, 1, 0, 0, 1, 0, 0, 0, 0, 0, 0, 0, 0, 1, 0, 0, 0, 0, 0, 0, 0, 0, 1, 1, 0, 1, 0, 0, 0, 1, 0, 1, 0, 0, 1, 0, 0, 0, 0, 0, 0, 0, 1, 0, 0, 1, 1, 1, 1, 1, 0, 1, 0, 0, 0, 1, 1, 0, 0, 0, 0, 0, 0, 0, 0, 0, 0, 1, 0, 0, 0, 0]\n"
     ]
    }
   ],
   "source": [
    "print(results)"
   ]
  },
  {
   "cell_type": "markdown",
   "id": "4ee71a73",
   "metadata": {},
   "source": [
    "# Accuracy\n",
    "We have all the pieces of the kNN algorithm in place. An important remaining concern is how to evaluate the accuracy of predictions.\n",
    "An easy way to evaluate the accuracy of the model is to calculate a ratio of the total correct predictions out of all predictions made\n",
    "called the classification accuracy.\n",
    "Below is the calc_accuracy function that sums the total correct predictions and returns the accuracy as a percentage of correct classifications"
   ]
  },
  {
   "cell_type": "code",
   "execution_count": 561,
   "id": "e9c56008",
   "metadata": {
    "scrolled": true
   },
   "outputs": [
    {
     "name": "stdout",
     "output_type": "stream",
     "text": [
      "73.37662337662337\n",
      "--- 0.000659942626953125 seconds ---\n"
     ]
    }
   ],
   "source": [
    "def calc_accuracy(gt_y, pred_y):\n",
    "    correct = 0\n",
    "    for g_y, p_y in zip(gt_y, pred_y):\n",
    "        if g_y == p_y:\n",
    "            correct += 1\n",
    "    return (correct/float(len(gt_y)) * 100)\n",
    "\n",
    "start_time = time.time()\n",
    "print(calc_accuracy(test_gts['Outcome'], results))\n",
    "print(\"--- %s seconds ---\" % (time.time() - start_time))"
   ]
  },
  {
   "cell_type": "code",
   "execution_count": 563,
   "id": "1f66e528",
   "metadata": {},
   "outputs": [],
   "source": [
    "def confusion_matrix(gt_y, pred_y):\n",
    "    # true positives\n",
    "    tp = 0\n",
    "    tn = 0\n",
    "    fp = 0\n",
    "    fn = 0\n",
    "    for g_y, p_y in zip(gt_y, pred_y):\n",
    "        if g_y == 0 and p_y == 0:\n",
    "            tn += 1\n",
    "        elif g_y == 1 and p_y == 1:\n",
    "            tp += 1\n",
    "        elif g_y == 1 and p_y == 0:\n",
    "            fn += 1\n",
    "        elif g_y == 0 and p_y == 1:\n",
    "            fp += 1\n",
    "    return tp,tn,fp,fn"
   ]
  }
 ],
 "metadata": {
  "kernelspec": {
   "display_name": "Python 3",
   "language": "python",
   "name": "python3"
  },
  "language_info": {
   "codemirror_mode": {
    "name": "ipython",
    "version": 3
   },
   "file_extension": ".py",
   "mimetype": "text/x-python",
   "name": "python",
   "nbconvert_exporter": "python",
   "pygments_lexer": "ipython3",
   "version": "3.8.8"
  }
 },
 "nbformat": 4,
 "nbformat_minor": 5
}
