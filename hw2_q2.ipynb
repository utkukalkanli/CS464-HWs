{
 "cells": [
  {
   "cell_type": "code",
   "execution_count": 508,
   "id": "2973f338",
   "metadata": {},
   "outputs": [],
   "source": [
    "import numpy as np \n",
    "import pandas as pd\n",
    "import matplotlib.pyplot as plt\n",
    "import seaborn as sns"
   ]
  },
  {
   "cell_type": "code",
   "execution_count": 509,
   "id": "bceeb2f1",
   "metadata": {},
   "outputs": [],
   "source": [
    "X = pd.read_csv('datasets/question-2-features.csv')\n",
    "Y = pd.read_csv('datasets/question-2-labels.csv')"
   ]
  },
  {
   "cell_type": "code",
   "execution_count": 510,
   "id": "a5daeed4",
   "metadata": {},
   "outputs": [
    {
     "data": {
      "text/html": [
       "<div>\n",
       "<style scoped>\n",
       "    .dataframe tbody tr th:only-of-type {\n",
       "        vertical-align: middle;\n",
       "    }\n",
       "\n",
       "    .dataframe tbody tr th {\n",
       "        vertical-align: top;\n",
       "    }\n",
       "\n",
       "    .dataframe thead th {\n",
       "        text-align: right;\n",
       "    }\n",
       "</style>\n",
       "<table border=\"1\" class=\"dataframe\">\n",
       "  <thead>\n",
       "    <tr style=\"text-align: right;\">\n",
       "      <th></th>\n",
       "      <th>CRIM</th>\n",
       "      <th>ZN</th>\n",
       "      <th>INDUS</th>\n",
       "      <th>CHAS</th>\n",
       "      <th>NOX</th>\n",
       "      <th>RM</th>\n",
       "      <th>AGE</th>\n",
       "      <th>DIS</th>\n",
       "      <th>RAD</th>\n",
       "      <th>TAX</th>\n",
       "      <th>PTRATIO</th>\n",
       "      <th>B</th>\n",
       "      <th>LSTAT</th>\n",
       "    </tr>\n",
       "  </thead>\n",
       "  <tbody>\n",
       "    <tr>\n",
       "      <th>0</th>\n",
       "      <td>0.00632</td>\n",
       "      <td>18.0</td>\n",
       "      <td>2.31</td>\n",
       "      <td>0.0</td>\n",
       "      <td>0.538</td>\n",
       "      <td>6.575</td>\n",
       "      <td>65.2</td>\n",
       "      <td>4.0900</td>\n",
       "      <td>1.0</td>\n",
       "      <td>296.0</td>\n",
       "      <td>15.3</td>\n",
       "      <td>396.90</td>\n",
       "      <td>4.98</td>\n",
       "    </tr>\n",
       "    <tr>\n",
       "      <th>1</th>\n",
       "      <td>0.02731</td>\n",
       "      <td>0.0</td>\n",
       "      <td>7.07</td>\n",
       "      <td>0.0</td>\n",
       "      <td>0.469</td>\n",
       "      <td>6.421</td>\n",
       "      <td>78.9</td>\n",
       "      <td>4.9671</td>\n",
       "      <td>2.0</td>\n",
       "      <td>242.0</td>\n",
       "      <td>17.8</td>\n",
       "      <td>396.90</td>\n",
       "      <td>9.14</td>\n",
       "    </tr>\n",
       "    <tr>\n",
       "      <th>2</th>\n",
       "      <td>0.02729</td>\n",
       "      <td>0.0</td>\n",
       "      <td>7.07</td>\n",
       "      <td>0.0</td>\n",
       "      <td>0.469</td>\n",
       "      <td>7.185</td>\n",
       "      <td>61.1</td>\n",
       "      <td>4.9671</td>\n",
       "      <td>2.0</td>\n",
       "      <td>242.0</td>\n",
       "      <td>17.8</td>\n",
       "      <td>392.83</td>\n",
       "      <td>4.03</td>\n",
       "    </tr>\n",
       "    <tr>\n",
       "      <th>3</th>\n",
       "      <td>0.03237</td>\n",
       "      <td>0.0</td>\n",
       "      <td>2.18</td>\n",
       "      <td>0.0</td>\n",
       "      <td>0.458</td>\n",
       "      <td>6.998</td>\n",
       "      <td>45.8</td>\n",
       "      <td>6.0622</td>\n",
       "      <td>3.0</td>\n",
       "      <td>222.0</td>\n",
       "      <td>18.7</td>\n",
       "      <td>394.63</td>\n",
       "      <td>2.94</td>\n",
       "    </tr>\n",
       "    <tr>\n",
       "      <th>4</th>\n",
       "      <td>0.06905</td>\n",
       "      <td>0.0</td>\n",
       "      <td>2.18</td>\n",
       "      <td>0.0</td>\n",
       "      <td>0.458</td>\n",
       "      <td>7.147</td>\n",
       "      <td>54.2</td>\n",
       "      <td>6.0622</td>\n",
       "      <td>3.0</td>\n",
       "      <td>222.0</td>\n",
       "      <td>18.7</td>\n",
       "      <td>396.90</td>\n",
       "      <td>5.33</td>\n",
       "    </tr>\n",
       "  </tbody>\n",
       "</table>\n",
       "</div>"
      ],
      "text/plain": [
       "      CRIM    ZN  INDUS  CHAS    NOX     RM   AGE     DIS  RAD    TAX  \\\n",
       "0  0.00632  18.0   2.31   0.0  0.538  6.575  65.2  4.0900  1.0  296.0   \n",
       "1  0.02731   0.0   7.07   0.0  0.469  6.421  78.9  4.9671  2.0  242.0   \n",
       "2  0.02729   0.0   7.07   0.0  0.469  7.185  61.1  4.9671  2.0  242.0   \n",
       "3  0.03237   0.0   2.18   0.0  0.458  6.998  45.8  6.0622  3.0  222.0   \n",
       "4  0.06905   0.0   2.18   0.0  0.458  7.147  54.2  6.0622  3.0  222.0   \n",
       "\n",
       "   PTRATIO       B  LSTAT  \n",
       "0     15.3  396.90   4.98  \n",
       "1     17.8  396.90   9.14  \n",
       "2     17.8  392.83   4.03  \n",
       "3     18.7  394.63   2.94  \n",
       "4     18.7  396.90   5.33  "
      ]
     },
     "execution_count": 510,
     "metadata": {},
     "output_type": "execute_result"
    }
   ],
   "source": [
    "X.head()"
   ]
  },
  {
   "cell_type": "code",
   "execution_count": 511,
   "id": "6512b21b",
   "metadata": {
    "scrolled": true
   },
   "outputs": [
    {
     "data": {
      "text/html": [
       "<div>\n",
       "<style scoped>\n",
       "    .dataframe tbody tr th:only-of-type {\n",
       "        vertical-align: middle;\n",
       "    }\n",
       "\n",
       "    .dataframe tbody tr th {\n",
       "        vertical-align: top;\n",
       "    }\n",
       "\n",
       "    .dataframe thead th {\n",
       "        text-align: right;\n",
       "    }\n",
       "</style>\n",
       "<table border=\"1\" class=\"dataframe\">\n",
       "  <thead>\n",
       "    <tr style=\"text-align: right;\">\n",
       "      <th></th>\n",
       "      <th>Price</th>\n",
       "    </tr>\n",
       "  </thead>\n",
       "  <tbody>\n",
       "    <tr>\n",
       "      <th>0</th>\n",
       "      <td>24.0</td>\n",
       "    </tr>\n",
       "    <tr>\n",
       "      <th>1</th>\n",
       "      <td>21.6</td>\n",
       "    </tr>\n",
       "    <tr>\n",
       "      <th>2</th>\n",
       "      <td>34.7</td>\n",
       "    </tr>\n",
       "    <tr>\n",
       "      <th>3</th>\n",
       "      <td>33.4</td>\n",
       "    </tr>\n",
       "    <tr>\n",
       "      <th>4</th>\n",
       "      <td>36.2</td>\n",
       "    </tr>\n",
       "  </tbody>\n",
       "</table>\n",
       "</div>"
      ],
      "text/plain": [
       "   Price\n",
       "0   24.0\n",
       "1   21.6\n",
       "2   34.7\n",
       "3   33.4\n",
       "4   36.2"
      ]
     },
     "execution_count": 511,
     "metadata": {},
     "output_type": "execute_result"
    }
   ],
   "source": [
    "Y.head()"
   ]
  },
  {
   "cell_type": "code",
   "execution_count": 512,
   "id": "c6fdddb7",
   "metadata": {},
   "outputs": [
    {
     "data": {
      "text/plain": [
       "13"
      ]
     },
     "execution_count": 512,
     "metadata": {},
     "output_type": "execute_result"
    }
   ],
   "source": [
    "from numpy.linalg import matrix_rank\n",
    "matrix_rank(np.dot(X.transpose(), X))"
   ]
  },
  {
   "cell_type": "code",
   "execution_count": 513,
   "id": "6bb4bba6",
   "metadata": {},
   "outputs": [
    {
     "data": {
      "text/plain": [
       "(13, 13)"
      ]
     },
     "execution_count": 513,
     "metadata": {},
     "output_type": "execute_result"
    }
   ],
   "source": [
    "np.dot(X.transpose(),X).shape"
   ]
  },
  {
   "cell_type": "markdown",
   "id": "c170f266",
   "metadata": {},
   "source": [
    "### Matrix X is full rank(rank is equal to the size of its rows), thus invertible"
   ]
  },
  {
   "cell_type": "markdown",
   "id": "77ba62ed",
   "metadata": {},
   "source": [
    "### If a matrix is not full rank, it is not invertible. Rank represents the number of linearly independent rows or columns in the matrix"
   ]
  },
  {
   "cell_type": "markdown",
   "id": "c0dc1f5b",
   "metadata": {},
   "source": [
    "## Calculating for only LSTAT"
   ]
  },
  {
   "cell_type": "code",
   "execution_count": 514,
   "id": "b277ef6e",
   "metadata": {},
   "outputs": [],
   "source": [
    "X_lstat = X['LSTAT']"
   ]
  },
  {
   "cell_type": "code",
   "execution_count": 515,
   "id": "9be7fb19",
   "metadata": {},
   "outputs": [],
   "source": [
    "X_lstat = np.c_[np.ones(( X_lstat.shape[0] ,1)), X_lstat] # add x0 = 1 to each instance, BIAS TERM"
   ]
  },
  {
   "cell_type": "code",
   "execution_count": 516,
   "id": "ae0129ae",
   "metadata": {
    "scrolled": true
   },
   "outputs": [
    {
     "data": {
      "text/plain": [
       "array([[1.  , 4.98],\n",
       "       [1.  , 9.14],\n",
       "       [1.  , 4.03],\n",
       "       ...,\n",
       "       [1.  , 5.64],\n",
       "       [1.  , 6.48],\n",
       "       [1.  , 7.88]])"
      ]
     },
     "execution_count": 516,
     "metadata": {},
     "output_type": "execute_result"
    }
   ],
   "source": [
    "X_lstat"
   ]
  },
  {
   "cell_type": "code",
   "execution_count": 517,
   "id": "1ef4994c",
   "metadata": {},
   "outputs": [],
   "source": [
    "beta_lstat = np.linalg.inv(np.dot(X_lstat.transpose(),X_lstat)).dot(X_lstat.transpose()).dot(Y)"
   ]
  },
  {
   "cell_type": "code",
   "execution_count": 518,
   "id": "ca0f3102",
   "metadata": {},
   "outputs": [
    {
     "data": {
      "text/plain": [
       "array([[34.55384088],\n",
       "       [-0.95004935]])"
      ]
     },
     "execution_count": 518,
     "metadata": {},
     "output_type": "execute_result"
    }
   ],
   "source": [
    "beta_lstat"
   ]
  },
  {
   "cell_type": "markdown",
   "id": "07a78dc2",
   "metadata": {},
   "source": [
    "### wo = 34.55384088, w1 = -0.95004935"
   ]
  },
  {
   "cell_type": "code",
   "execution_count": 519,
   "id": "e2132ee6",
   "metadata": {
    "scrolled": true
   },
   "outputs": [
    {
     "data": {
      "image/png": "[encoded data removed]",
      "text/plain": [
       "<Figure size 432x288 with 1 Axes>"
      ]
     },
     "metadata": {
      "needs_background": "light"
     },
     "output_type": "display_data"
    }
   ],
   "source": [
    "plt.plot(X['LSTAT'],Y,'.')\n",
    "plt.show()"
   ]
  },
  {
   "cell_type": "code",
   "execution_count": 571,
   "id": "ac01df47",
   "metadata": {
    "scrolled": true
   },
   "outputs": [],
   "source": [
    "x = np.linspace(0,40,40)"
   ]
  },
  {
   "cell_type": "code",
   "execution_count": 572,
   "id": "07660a2c",
   "metadata": {
    "scrolled": false
   },
   "outputs": [],
   "source": [
    "y_pred = beta_lstat[0] + beta_lstat[1] * x"
   ]
  },
  {
   "cell_type": "code",
   "execution_count": 573,
   "id": "c002ada6",
   "metadata": {
    "scrolled": true
   },
   "outputs": [
    {
     "data": {
      "image/png": "[encoded data removed]",
      "text/plain": [
       "<Figure size 432x288 with 1 Axes>"
      ]
     },
     "metadata": {
      "needs_background": "light"
     },
     "output_type": "display_data"
    }
   ],
   "source": [
    "fig = plt.figure()\n",
    "ax = fig.add_axes([0,0,1,1])\n",
    "ax.plot(x,y_pred, label=\"model prediction\", lw=5)\n",
    "ax.plot(X['LSTAT'],Y,'r.',label=\"LSTAT vs Price\")\n",
    "plt.xlim([0,40])\n",
    "plt.ylim([0,55])\n",
    "ax.set_title('Price vs LSTAT & Model Prediction')\n",
    "ax.set_xlabel('LSTAT')\n",
    "ax.set_ylabel('Price')\n",
    "ax.legend()\n",
    "plt.show()"
   ]
  },
  {
   "cell_type": "markdown",
   "id": "34afca1f",
   "metadata": {},
   "source": [
    "### Out feature does not seem linear, linear regression gives some hint about the distrubition of data but it does not seem enough to explain completely. -log(x) would be a better and MSE error would be smaller"
   ]
  },
  {
   "cell_type": "code",
   "execution_count": 552,
   "id": "a82449c6",
   "metadata": {},
   "outputs": [],
   "source": [
    "def MSE(ground_truth, prediction):\n",
    "    summation = 0  # variable to store the summation of differences\n",
    "    n = len(prediction) # finding total number of items in list\n",
    "    for i in range (0,n):  #looping through each element of the list\n",
    "        difference = ground_truth[i] - prediction[i]  #finding the difference between observed and predicted value\n",
    "        squared_difference = difference ** 2  #taking square of the differene \n",
    "        summation = summation + squared_difference  #taking a sum of all the differences\n",
    "    return summation / n  #dividing summation by total values to obtain average"
   ]
  },
  {
   "cell_type": "code",
   "execution_count": 574,
   "id": "2e79bfcc",
   "metadata": {
    "scrolled": true
   },
   "outputs": [
    {
     "data": {
      "text/plain": [
       "1367.9540283279348"
      ]
     },
     "execution_count": 574,
     "metadata": {},
     "output_type": "execute_result"
    }
   ],
   "source": [
    "# Mean Squared Error\n",
    "MSE = np.square(np.subtract(Y.values[0:40],y_pred)).mean()\n",
    "MSE"
   ]
  },
  {
   "cell_type": "markdown",
   "id": "7a8bd204",
   "metadata": {},
   "source": [
    "# Polynomial Regression"
   ]
  },
  {
   "cell_type": "code",
   "execution_count": 525,
   "id": "d3c9dc82",
   "metadata": {},
   "outputs": [
    {
     "data": {
      "text/plain": [
       "array([[ 1.    ,  4.98  , 24.8004],\n",
       "       [ 1.    ,  9.14  , 83.5396],\n",
       "       [ 1.    ,  4.03  , 16.2409],\n",
       "       ...,\n",
       "       [ 1.    ,  5.64  , 31.8096],\n",
       "       [ 1.    ,  6.48  , 41.9904],\n",
       "       [ 1.    ,  7.88  , 62.0944]])"
      ]
     },
     "execution_count": 525,
     "metadata": {},
     "output_type": "execute_result"
    }
   ],
   "source": [
    "X_lstat = X['LSTAT'].to_numpy()\n",
    "X_lstat = np.expand_dims(X_lstat, axis=1)\n",
    "# Add a bias factor to X.\n",
    "X_lstat = np.hstack((np.ones((X_lstat.shape[0], 1)), X_lstat))\n",
    "X_lstat = np.hstack((\n",
    "    X_lstat,\n",
    "    (X_lstat[:, 1] ** 2).reshape((X_lstat.shape[0], 1))\n",
    "))\n",
    "X_lstat"
   ]
  },
  {
   "cell_type": "code",
   "execution_count": 558,
   "id": "e9aac8a7",
   "metadata": {},
   "outputs": [
    {
     "name": "stdout",
     "output_type": "stream",
     "text": [
      "coefficients\n"
     ]
    },
    {
     "data": {
      "text/plain": [
       "array([[42.86200733],\n",
       "       [-2.3328211 ],\n",
       "       [ 0.04354689]])"
      ]
     },
     "execution_count": 558,
     "metadata": {},
     "output_type": "execute_result"
    }
   ],
   "source": [
    "print('coefficients')\n",
    "beta_lstat = np.linalg.inv(np.dot(X_lstat.transpose(),X_lstat)).dot(X_lstat.transpose()).dot(Y)\n",
    "beta_lstat"
   ]
  },
  {
   "cell_type": "code",
   "execution_count": 568,
   "id": "72ab6924",
   "metadata": {},
   "outputs": [],
   "source": [
    "x = np.linspace(0,40,40)\n",
    "y_pred_p = beta_lstat[0] + beta_lstat[1] * x + beta_lstat[2] * pow(x,2)"
   ]
  },
  {
   "cell_type": "code",
   "execution_count": 569,
   "id": "ace69669",
   "metadata": {},
   "outputs": [
    {
     "data": {
      "image/png": "[encoded data removed]",
      "text/plain": [
       "<Figure size 432x288 with 1 Axes>"
      ]
     },
     "metadata": {
      "needs_background": "light"
     },
     "output_type": "display_data"
    }
   ],
   "source": [
    "fig = plt.figure()\n",
    "ax = fig.add_axes([0,0,1,1])\n",
    "ax.plot(x,y_pred_p, label=\"model prediction\", lw=5)\n",
    "ax.plot(X['LSTAT'],Y,'r.',label=\"LSTAT vs Price\")\n",
    "plt.xlim([0,40])\n",
    "plt.ylim([0,55])\n",
    "ax.set_title('Price vs LSTAT & Model Prediction')\n",
    "ax.set_xlabel('LSTAT')\n",
    "ax.set_ylabel('Price')\n",
    "ax.legend()\n",
    "plt.show()"
   ]
  },
  {
   "cell_type": "code",
   "execution_count": 570,
   "id": "22cdbdc4",
   "metadata": {},
   "outputs": [
    {
     "data": {
      "text/plain": [
       "114.56144938973152"
      ]
     },
     "execution_count": 570,
     "metadata": {},
     "output_type": "execute_result"
    }
   ],
   "source": [
    "# Mean Squared Error\n",
    "MSE = np.square(np.subtract(Y.values[0:40],y_pred_p)).mean()\n",
    "MSE"
   ]
  },
  {
   "cell_type": "markdown",
   "id": "306e3cc4",
   "metadata": {},
   "source": [
    "### Our graph becomes polynomial and fits to the data better as we can see from the plot, our MSE decreases significanly when we go from linear regression to polynomial regression. Since model fits to the data better"
   ]
  }
 ],
 "metadata": {
  "kernelspec": {
   "display_name": "Python 3",
   "language": "python",
   "name": "python3"
  },
  "language_info": {
   "codemirror_mode": {
    "name": "ipython",
    "version": 3
   },
   "file_extension": ".py",
   "mimetype": "text/x-python",
   "name": "python",
   "nbconvert_exporter": "python",
   "pygments_lexer": "ipython3",
   "version": "3.8.8"
  }
 },
 "nbformat": 4,
 "nbformat_minor": 5
}
